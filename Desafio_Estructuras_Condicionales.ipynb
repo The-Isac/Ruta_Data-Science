{
  "nbformat": 4,
  "nbformat_minor": 0,
  "metadata": {
    "colab": {
      "provenance": [],
      "authorship_tag": "ABX9TyPqibee4QE7Km8JTPmEZ+Zw",
      "include_colab_link": true
    },
    "kernelspec": {
      "name": "python3",
      "display_name": "Python 3"
    },
    "language_info": {
      "name": "python"
    }
  },
  "cells": [
    {
      "cell_type": "markdown",
      "metadata": {
        "id": "view-in-github",
        "colab_type": "text"
      },
      "source": [
        "<a href=\"https://colab.research.google.com/github/The-Isac/Ruta_Data-Science/blob/main/Desafio_Estructuras_Condicionales.ipynb\" target=\"_parent\"><img src=\"https://colab.research.google.com/assets/colab-badge.svg\" alt=\"Open In Colab\"/></a>"
      ]
    },
    {
      "cell_type": "markdown",
      "source": [
        "# Desafios del curso de Alura la Fundamentos de Python y Datos G9 - ONE\n",
        "\n",
        "Vamos practicar el uso de estructuras condicionales como el if, else y elif a través de algunas actividades. Ahora que estamos avanzando en los contenidos, podemos hacer los desafíos más interesantes: ¡trabajaremos en proyectos de código! Resuelve los problemas iniciales para prepararte para los proyectos:"
      ],
      "metadata": {
        "id": "27mER6lAQI65"
      }
    },
    {
      "cell_type": "markdown",
      "source": [
        "##**Entrenando la programación**\n"
      ],
      "metadata": {
        "id": "D9wDCsDIQk2Z"
      }
    },
    {
      "cell_type": "markdown",
      "source": [
        "1 - Escribe un programa que pida a la persona usuaria que proporcione dos números y muestre el número más grande.\n",
        "\n"
      ],
      "metadata": {
        "id": "zmhkUGZOQk5U"
      }
    },
    {
      "cell_type": "code",
      "source": [
        "Num1 = float(input(\"Ingresa el primer número: \"))\n",
        "Num2 = float(input(\"Ingresa el segundo número:\"))\n",
        "\n",
        "if Num1 > Num2:\n",
        "  print(f\"El numero mayor es: {Num1}\")\n",
        "elif Num2 > Num1:\n",
        "  print(f\"El numero mayor es: {Num2}\")\n",
        "else:\n",
        "  print(\"Los numeros son iguales\")"
      ],
      "metadata": {
        "colab": {
          "base_uri": "https://localhost:8080/"
        },
        "id": "MAOI-L88SOu9",
        "outputId": "b58d9456-5f99-426b-fc2d-0d02d55a0576"
      },
      "execution_count": null,
      "outputs": [
        {
          "output_type": "stream",
          "name": "stdout",
          "text": [
            "Ingresa el primer número: 1\n",
            "Ingresa el segundo número:1\n",
            "Los numeros son iguales\n"
          ]
        }
      ]
    },
    {
      "cell_type": "markdown",
      "source": [
        "2 - Escribe un programa que solicite el porcentaje de crecimiento de producción de una empresa e informe si hubo un crecimiento (porcentaje positivo) o una disminución (porcentaje negativo).\n",
        "\n"
      ],
      "metadata": {
        "id": "xwJ54gmlQk7s"
      }
    },
    {
      "cell_type": "code",
      "source": [
        "Porcent = float(input(\"Ingresa el porcentaje de crecimiento de la producción: \"))\n",
        "\n",
        "if Porcent > 0:\n",
        "  print('Hubo un crecimiento en la produccion de', Porcent, '%')\n",
        "elif Porcent < 0:\n",
        "  print('Hubo una disminución en la produccion de', Porcent, '%')\n",
        "else:\n",
        "  print('No hubo cambios en la produccion')"
      ],
      "metadata": {
        "colab": {
          "base_uri": "https://localhost:8080/"
        },
        "id": "7zacBrkYyxtE",
        "outputId": "25c54853-0df5-435a-edf7-84edcdbd2329"
      },
      "execution_count": null,
      "outputs": [
        {
          "output_type": "stream",
          "name": "stdout",
          "text": [
            "Ingresa el porcentaje de crecimiento de la producción: 43\n",
            "Hubo un crecimiento en la produccion de 43.0 %\n"
          ]
        }
      ]
    },
    {
      "cell_type": "markdown",
      "source": [
        "3 - Escribe un programa que determine si una letra proporcionada por la persona usuaria es una vocal o una consonante.\n",
        "\n"
      ],
      "metadata": {
        "id": "ikhl3ZbrQk-f"
      }
    },
    {
      "cell_type": "code",
      "source": [
        "Con_voc = input(\"Ingresa una letra: \")\n",
        "\n",
        "if Con_voc == 'a' or Con_voc == 'e' or Con_voc == 'i' or Con_voc == 'o' or Con_voc == 'u':\n",
        "  print('Es una vocal')\n",
        "else :\n",
        "  print('Es una consonante')\n",
        "\n",
        "\"\"\"\n",
        "Otra menera de hacerlo es\n",
        "Con_voc = input(\"Ingresa una letra: \")\n",
        "\n",
        "# Verifica si la letra está dentro de la cadena de vocales\n",
        "if Con_voc.lower() in 'aeiou': # Agrego .lower() para manejar mayúsculas también\n",
        "  print('Es una vocal')\n",
        "else :\n",
        "  print('Es una consonante')\n",
        "\n",
        "\n",
        "\"\"\""
      ],
      "metadata": {
        "colab": {
          "base_uri": "https://localhost:8080/",
          "height": 87
        },
        "id": "HAvtPau_0WiO",
        "outputId": "0c021b19-142d-477a-e054-9842590dc5a0"
      },
      "execution_count": null,
      "outputs": [
        {
          "output_type": "stream",
          "name": "stdout",
          "text": [
            "Ingresa una letra: r\n",
            "Es una consonante\n"
          ]
        },
        {
          "output_type": "execute_result",
          "data": {
            "text/plain": [
              "'\\nOtra menera de hacerlo es\\nCon_voc = input(\"Ingresa una letra: \")\\n\\n# Verifica si la letra está dentro de la cadena de vocales\\nif Con_voc.lower() in \\'aeiou\\': # Agrego .lower() para manejar mayúsculas también\\n  print(\\'Es una vocal\\')\\nelse :\\n  print(\\'Es una consonante\\')\\n\\n\\n'"
            ],
            "application/vnd.google.colaboratory.intrinsic+json": {
              "type": "string"
            }
          },
          "metadata": {},
          "execution_count": 5
        }
      ]
    },
    {
      "cell_type": "markdown",
      "source": [
        "4 - Escribe un programa que lea valores promedio de precios de un modelo de automóvil durante 3 años consecutivos y muestre el valor más alto y más bajo entre esos tres años.\n",
        "\n"
      ],
      "metadata": {
        "id": "BB06Zid1QlCf"
      }
    },
    {
      "cell_type": "code",
      "source": [
        "precio1 = float(input(\"Ingresa el precio del primer año: \"))\n",
        "precio2 = float(input(\"Ingresa el precio del segundo año: \"))\n",
        "precio3 = float(input(\"Ingresa el precio del tercer año: \"))\n",
        "\n",
        "mayor = max(precio1, precio2, precio3)\n",
        "menor = min(precio1, precio2, precio3)\n",
        "\n",
        "print(f\"El valor más alto es: {mayor}\")\n",
        "print(f\"El valor más bajo es: {menor}\")"
      ],
      "metadata": {
        "colab": {
          "base_uri": "https://localhost:8080/"
        },
        "id": "BHRVrIRI2AUo",
        "outputId": "e1d69bf2-ef90-4be9-964e-705f455e3044"
      },
      "execution_count": null,
      "outputs": [
        {
          "output_type": "stream",
          "name": "stdout",
          "text": [
            "Ingresa el precio del primer año: 2002\n",
            "Ingresa el precio del segundo año: 2022\n",
            "Ingresa el precio del tercer año: 1998\n",
            "El valor más alto es: 2022.0\n",
            "El valor más bajo es: 1998.0\n"
          ]
        }
      ]
    },
    {
      "cell_type": "markdown",
      "source": [
        "5 - Escribe un programa que pregunte sobre el precio de tres productos e indique cuál es el producto más barato para comprar.\n",
        "\n"
      ],
      "metadata": {
        "id": "wzzOeh4ZQlFH"
      }
    },
    {
      "cell_type": "markdown",
      "source": [
        "6 - Escribe un programa que lea tres números y los muestre en orden descendente.\n",
        "\n"
      ],
      "metadata": {
        "id": "i0_fJLa0QlHo"
      }
    },
    {
      "cell_type": "markdown",
      "source": [
        "7 -Escribe un programa que pregunte en qué turno estudia la persona usuaria (\"mañana\", \"tarde\" o \"noche\") y muestre el mensaje \"¡Buenos Días!\", \"¡Buenas Tardes!\", \"¡Buenas Noches!\" o \"Valor Inválido!\", según el caso.\n",
        "\n"
      ],
      "metadata": {
        "id": "xJbyIedEQlKh"
      }
    },
    {
      "cell_type": "markdown",
      "source": [
        "8 - Escribe un programa que solicite un número entero a la persona usuaria y determine si es par o impar. Pista: Puedes usar el operador módulo (%).\n",
        "\n"
      ],
      "metadata": {
        "id": "cpCCr8-aQlNN"
      }
    },
    {
      "cell_type": "markdown",
      "source": [
        "9 - Escribe un programa que pida un número a la persona usuaria y le informe si es entero o decimal.\n",
        "\n"
      ],
      "metadata": {
        "id": "zaoV_jMEQlPw"
      }
    },
    {
      "cell_type": "markdown",
      "source": [
        "##**Momento de los proyectos**"
      ],
      "metadata": {
        "id": "UoMl27ajQlSI"
      }
    },
    {
      "cell_type": "markdown",
      "source": [
        "10 - Un programa debe ser escrito para leer dos números y luego preguntar a la persona usuaria qué operación desea realizar. El resultado de la operación debe incluir información sobre el número, si es par o impar, positivo o negativo, e entero o decimal.\n",
        "\n"
      ],
      "metadata": {
        "id": "M7h6Was5QlUj"
      }
    },
    {
      "cell_type": "markdown",
      "source": [
        "11 - Escribe un programa que pida a la persona usuaria tres números que representan los lados de un triángulo. El programa debe informar si los valores pueden utilizarse para formar un triángulo y, en caso afirmativo, si es equilátero, isósceles o escaleno. Ten en cuenta algunas sugerencias:\n",
        "\n",
        "* Tres lados forman un triángulo cuando la suma de cualesquiera dos lados es mayor que el tercero;\n",
        "* Triángulo Equilátero: tres lados iguales;\n",
        "* Triángulo Isósceles: dos lados iguales;\n",
        "* Triángulo Escaleno: tres lados diferentes."
      ],
      "metadata": {
        "id": "pNq6YFS6QlXa"
      }
    },
    {
      "cell_type": "markdown",
      "source": [
        "12 - Un establecimiento está vendiendo combustibles con descuentos variables. Para el etanol, si la cantidad comprada es de hasta 15 litros, el descuento será del 2% por litro. En caso contrario, será del 4% por litro. Para el diésel, si la cantidad comprada es de hasta 15 litros, el descuento será del 3% por litro. En caso contrario, será del 5% por litro. El precio por litro de diésel es de R 2,00 y el precio por litro de etanol es de R 1,70. Escribe un programa que lea la cantidad de litros vendidos y el tipo de combustible (E para etanol y D para diésel) y calcule el valor a pagar por el cliente. Ten en cuenta algunas sugerencias:\n",
        "\n",
        "* El valor del descuento será el producto del precio por litro, la cantidad de litros y el valor del descuento.\n",
        "* El valor a pagar por un cliente será el resultado de la multiplicación del precio por litro por la cantidad de litros menos el valor del descuento resultante del cálculo."
      ],
      "metadata": {
        "id": "Asth5AnjQlZc"
      }
    },
    {
      "cell_type": "markdown",
      "source": [
        "13 - En una empresa de venta de bienes raíces, debes crear un código que analice los datos de ventas anuales para ayudar a la dirección en la toma de decisiones. El código debe recopilar los datos de cantidad de ventas durante los años 2022 y 2023 y calcular la variación porcentual. A partir del valor de la variación, se deben proporcionar las siguientes sugerencias:\n",
        "\n",
        "* Para una variación superior al 20%: bonificación para el equipo de ventas.\n",
        "* Para una variación entre el 2% y el 20%: pequeña bonificación para el equipo de ventas.\n",
        "* Para una variación entre el 2% y el -10%: planificación de políticas de incentivo a las ventas.\n",
        "* Para bonificaciones inferiores al -10%: recorte de gastos.\n"
      ],
      "metadata": {
        "id": "ZblRMXTeQlcH"
      }
    }
  ]
}