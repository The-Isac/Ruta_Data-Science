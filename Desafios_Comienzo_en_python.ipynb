{
  "nbformat": 4,
  "nbformat_minor": 0,
  "metadata": {
    "colab": {
      "provenance": [],
      "authorship_tag": "ABX9TyOLxdPCw8yN4ElJJ1QrkWlH",
      "include_colab_link": true
    },
    "kernelspec": {
      "name": "python3",
      "display_name": "Python 3"
    },
    "language_info": {
      "name": "python"
    }
  },
  "cells": [
    {
      "cell_type": "markdown",
      "metadata": {
        "id": "view-in-github",
        "colab_type": "text"
      },
      "source": [
        "<a href=\"https://colab.research.google.com/github/The-Isac/Ruta_Data-Science/blob/main/Desafios_Comienzo_en_python.ipynb\" target=\"_parent\"><img src=\"https://colab.research.google.com/assets/colab-badge.svg\" alt=\"Open In Colab\"/></a>"
      ]
    },
    {
      "cell_type": "markdown",
      "source": [
        "# Desafios del curso de Alura la Fundamentos de Python y Datos G9 - ONE\n",
        "\n",
        "Vamos a practicar el uso de la función print con algunas actividades. Para ello, resuelve los problemas propuestos en código:\\"
      ],
      "metadata": {
        "id": "T1b6SEispLTu"
      }
    },
    {
      "cell_type": "markdown",
      "source": [
        "1 - Imprime la frase \"Escuela de Datos de Alura\"."
      ],
      "metadata": {
        "id": "3WYZ-EKWpcOE"
      }
    },
    {
      "cell_type": "code",
      "execution_count": null,
      "metadata": {
        "id": "fdZ_PJGzo8dl"
      },
      "outputs": [],
      "source": [
        "print('Escuela de Datos de Alura')"
      ]
    },
    {
      "cell_type": "markdown",
      "source": [
        "2 - Imprime tu nombre y tu apellido siguiendo la estructura a continuación:\n",
        "\n"
      ],
      "metadata": {
        "id": "K9UV4BIipeoc"
      }
    },
    {
      "cell_type": "code",
      "source": [
        "print('Nombre: Isaac')\n",
        "print('Apellido: Castelan')"
      ],
      "metadata": {
        "id": "3-D7YMrsplq-"
      },
      "execution_count": null,
      "outputs": []
    },
    {
      "cell_type": "markdown",
      "source": [
        "3 - Imprime tu primer nombre letra por letra. Por ejemplo, si mi nombre es Álvaro, la salida sería:\n",
        "\n"
      ],
      "metadata": {
        "id": "XuTDUYgopcfs"
      }
    },
    {
      "cell_type": "code",
      "source": [
        "print('I')\n",
        "print('s')\n",
        "print('a')\n",
        "print('a')\n",
        "print('c')"
      ],
      "metadata": {
        "id": "vgaUDrRjpmD0"
      },
      "execution_count": null,
      "outputs": []
    },
    {
      "cell_type": "markdown",
      "source": [
        "4 - Imprime tu fecha de nacimiento en formato día mes año. Recuerda que los valores de día y año no deben estar entre comillas. Suponiendo una fecha de cumpleaños el 28 de febrero de 2003, el formato debe ser como el siguiente:\n",
        "\n"
      ],
      "metadata": {
        "id": "Pc1IzKDopclw"
      }
    },
    {
      "cell_type": "code",
      "source": [
        "print(7, 'junio', 2002)"
      ],
      "metadata": {
        "id": "zLpkvlYLpm9m"
      },
      "execution_count": null,
      "outputs": []
    },
    {
      "cell_type": "markdown",
      "source": [
        "5 - Imprime, en una sola instrucción print, el año actual en el que estás realizando este curso. El valor del año debe ser un dato numérico, y la salida de print debe ser la siguiente:\n",
        "\n"
      ],
      "metadata": {
        "id": "RrXwvsIqpcur"
      }
    },
    {
      "cell_type": "code",
      "source": [
        "print('Año actual: 2025')"
      ],
      "metadata": {
        "id": "vxJaaiwcpnWB"
      },
      "execution_count": null,
      "outputs": []
    }
  ]
}