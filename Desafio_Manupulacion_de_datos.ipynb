{
  "nbformat": 4,
  "nbformat_minor": 0,
  "metadata": {
    "colab": {
      "provenance": [],
      "authorship_tag": "ABX9TyOFfOCmQFNjS1iIXheUYqn1",
      "include_colab_link": true
    },
    "kernelspec": {
      "name": "python3",
      "display_name": "Python 3"
    },
    "language_info": {
      "name": "python"
    }
  },
  "cells": [
    {
      "cell_type": "markdown",
      "metadata": {
        "id": "view-in-github",
        "colab_type": "text"
      },
      "source": [
        "<a href=\"https://colab.research.google.com/github/The-Isac/Ruta_Data-Science/blob/main/Desafio_Manupulacion_de_datos.ipynb\" target=\"_parent\"><img src=\"https://colab.research.google.com/assets/colab-badge.svg\" alt=\"Open In Colab\"/></a>"
      ]
    },
    {
      "cell_type": "markdown",
      "source": [
        "# Desafios del curso de Alura la Fundamentos de Python y Datos G9 - ONE\n",
        "Vamos a practicar el uso de varios tipos de variables y la función input a través de algunas actividades. Resuelve los problemas propuestos en código."
      ],
      "metadata": {
        "id": "7fqvTENbq2av"
      }
    },
    {
      "cell_type": "markdown",
      "source": [
        "##**Recopilación y muestra de datos**\n",
        "\n"
      ],
      "metadata": {
        "id": "-bpKfFdKq2hX"
      }
    },
    {
      "cell_type": "markdown",
      "source": [
        "1 - Crea un programa que solicite al usuario que escriba su nombre y luego imprima \"Hola, [nombre].\""
      ],
      "metadata": {
        "id": "QA3-tAHzq2j7"
      }
    },
    {
      "cell_type": "code",
      "source": [
        "Nombre = input(\"Escribe tu nombre: \")\n",
        "print(f\"Hola, {Nombre}\")"
      ],
      "metadata": {
        "colab": {
          "base_uri": "https://localhost:8080/"
        },
        "id": "G9B4lCBNr1Mi",
        "outputId": "acdbd697-b658-474a-afb8-d28d3f9ff38f"
      },
      "execution_count": null,
      "outputs": [
        {
          "output_type": "stream",
          "name": "stdout",
          "text": [
            "Escribe tu nombre: Isaac\n",
            "Hola, Isaac\n"
          ]
        }
      ]
    },
    {
      "cell_type": "markdown",
      "source": [
        "2 - Crea un programa que solicite al usuario que escriba su nombre y edad, y luego imprima \"Hola, [nombre], tienes [edad] años.\"\n",
        "\n"
      ],
      "metadata": {
        "id": "SSXJ4N1qq2mU"
      }
    },
    {
      "cell_type": "code",
      "source": [
        "Nom_2 = input(\"Escribe tu nombre:\")\n",
        "Edad_2 = input(\"Escribe tu edad:\")\n",
        "\n",
        "print(f'Hola, {Nom_2}, tienes {Edad_2} años.')"
      ],
      "metadata": {
        "colab": {
          "base_uri": "https://localhost:8080/"
        },
        "id": "H8kimfmvsO-E",
        "outputId": "3ed97083-f8f4-4c84-a658-622e0bea47b3"
      },
      "execution_count": null,
      "outputs": [
        {
          "output_type": "stream",
          "name": "stdout",
          "text": [
            "Escribe tu nombre:Isaac\n",
            "Escribe tu edad:23\n",
            "Hola, Isaac, tienes 23 años.\n"
          ]
        }
      ]
    },
    {
      "cell_type": "markdown",
      "source": [
        "3 - Crea un programa que solicite al usuario que escriba su nombre, edad y altura en metros, y luego imprima \"Hola, [nombre], tienes [edad] años y mides [altura] metros.\"\n",
        "\n"
      ],
      "metadata": {
        "id": "1vMbDpgNq2ot"
      }
    },
    {
      "cell_type": "code",
      "source": [
        "Nom_3 = input(\"Escribe tu nombre:\")\n",
        "Edad_3 = input(\"Escribe tu edad:\")\n",
        "Altura_3 = input(\"Escribe tu altura en metros:\")\n",
        "\n",
        "print(f'Hola, {Nom_3}, tienes {Edad_3} años y mides {Altura_3} metros.')\n",
        "\n",
        "type(Altura_3)"
      ],
      "metadata": {
        "colab": {
          "base_uri": "https://localhost:8080/"
        },
        "id": "2SgCbZaAs2m8",
        "outputId": "7c932c47-e610-42b4-e238-34e44a0108c7"
      },
      "execution_count": null,
      "outputs": [
        {
          "output_type": "stream",
          "name": "stdout",
          "text": [
            "Escribe tu nombre:isaac\n",
            "Escribe tu edad:23\n",
            "Escribe tu altura en metros:1.70\n",
            "Hola, isaac, tienes 23 años y mides 1.70 metros.\n"
          ]
        },
        {
          "output_type": "execute_result",
          "data": {
            "text/plain": [
              "str"
            ]
          },
          "metadata": {},
          "execution_count": 6
        }
      ]
    },
    {
      "cell_type": "markdown",
      "source": [
        "##**Calculadora con operadores**\n",
        "\n",
        "\n"
      ],
      "metadata": {
        "id": "x1vZv2Zcq2rH"
      }
    },
    {
      "cell_type": "markdown",
      "source": [
        "4 - Crea un programa que solicite dos valores numéricos al usuario y luego imprima la suma de ambos valores.\n",
        "\n"
      ],
      "metadata": {
        "id": "iI3NzLLmq2ti"
      }
    },
    {
      "cell_type": "code",
      "source": [
        "print(\"Ingresa dos numero para hacer la suma\")\n",
        "Num_s1 = float(input(\"Ingresa el primer numero: \"))\n",
        "Num_s2 = float(input(\"Ingresa el segundo numero: \"))\n",
        "Suma = (Num_s1) + (Num_s2)\n",
        "print(f'La suma de {Num_s1} y de {Num_s2}, nos da un resultado de {Suma}')"
      ],
      "metadata": {
        "colab": {
          "base_uri": "https://localhost:8080/"
        },
        "id": "PdAX1jdstNa7",
        "outputId": "1b0024e4-a63d-4319-d04f-9a3d232151a8"
      },
      "execution_count": null,
      "outputs": [
        {
          "output_type": "stream",
          "name": "stdout",
          "text": [
            "Ingresa dos numero para hacer la suma\n",
            "Ingresa el primer numero: 25.5\n",
            "Ingresa el segundo numero: 2.347\n",
            "La suma de 25.5 y de 2.347, nos da un resultado de 27.847\n"
          ]
        }
      ]
    },
    {
      "cell_type": "markdown",
      "source": [
        "5 - Crea un programa que solicite tres valores numéricos al usuario y luego imprima la suma de los tres valores.\n",
        "\n"
      ],
      "metadata": {
        "id": "JaQ1d__Fq2wP"
      }
    },
    {
      "cell_type": "code",
      "source": [
        "from ast import Num\n",
        "print(\"Ingresa tres numero para hacer la suma\")\n",
        "Num_s1 = float(input(\"Ingresa el primer numero: \"))\n",
        "Num_s2 = float(input(\"Ingresa el segundo numero: \"))\n",
        "Num_s3 = float(input(\"Ingresa el tercer numero: \"))\n",
        "Suma = (Num_s1) + (Num_s2) + (Num_s3)\n",
        "print(f'La suma de {Num_s1}, {Num_s2} y {Num_s3} , nos da un resultado de {Suma}')"
      ],
      "metadata": {
        "colab": {
          "base_uri": "https://localhost:8080/"
        },
        "id": "rjgQvxPbvsht",
        "outputId": "f57d0f18-6b46-4797-c65a-6fa1fabeb42b"
      },
      "execution_count": null,
      "outputs": [
        {
          "output_type": "stream",
          "name": "stderr",
          "text": [
            "/tmp/ipython-input-670637397.py:1: DeprecationWarning: ast.Num is deprecated and will be removed in Python 3.14; use ast.Constant instead\n",
            "  from ast import Num\n"
          ]
        },
        {
          "output_type": "stream",
          "name": "stdout",
          "text": [
            "Ingresa tres numero para hacer la suma\n",
            "Ingresa el primer numero: 23.5674\n",
            "Ingresa el segundo numero: 68734.564\n",
            "Ingresa el tercer numero: 12213.069587\n",
            "La suma de 23.5674, 68734.564 y 12213.069587 , nos da un resultado de 80971.200987\n"
          ]
        }
      ]
    },
    {
      "cell_type": "markdown",
      "source": [
        "6 - Crea un programa que solicite dos valores numéricos al usuario y luego imprima la resta del primero menos el segundo valor.\n",
        "\n"
      ],
      "metadata": {
        "id": "xNlP0NMjq2yq"
      }
    },
    {
      "cell_type": "code",
      "source": [
        "print(\"Ingresa dos numero para hacer la resta\")\n",
        "Num_r1 = float(input(\"Ingresa el primer numero: \"))\n",
        "Num_r2 = float(input(\"Ingresa el segundo numero: \"))\n",
        "Resta = (Num_r1) - (Num_r2)\n",
        "print(f'La resta de {Num_r1} y de {Num_r2}, nos da un resultado de {Resta}')"
      ],
      "metadata": {
        "colab": {
          "base_uri": "https://localhost:8080/"
        },
        "id": "jEsQCe12we9_",
        "outputId": "11ea6801-b50c-4384-b17f-5272558d3f76"
      },
      "execution_count": null,
      "outputs": [
        {
          "output_type": "stream",
          "name": "stdout",
          "text": [
            "Ingresa dos numero para hacer la resta\n",
            "Ingresa el primer numero: 15\n",
            "Ingresa el segundo numero: 25\n",
            "La resta de 15.0 y de 25.0, nos da un resultado de -10.0\n"
          ]
        }
      ]
    },
    {
      "cell_type": "markdown",
      "source": [
        "7 - Crea un programa que solicite dos valores numéricos al usuario y luego imprima la multiplicación de los dos valores.\n",
        "\n"
      ],
      "metadata": {
        "id": "h124Zyz-q23N"
      }
    },
    {
      "cell_type": "code",
      "source": [
        "print(\"Ingresa dos numero para hacer la multiplicacion\")\n",
        "Num_m1 = float(input(\"Ingresa el primer numero: \"))\n",
        "Num_m2 = float(input(\"Ingresa el segundo numero: \"))\n",
        "Multip = (Num_m1) * (Num_m2)\n",
        "print(f'La multiplicacion de {Num_m1} y de {Num_m2}, nos da un resultado de {Multip}')"
      ],
      "metadata": {
        "colab": {
          "base_uri": "https://localhost:8080/"
        },
        "id": "fAVHM--8w4h6",
        "outputId": "b01d84db-fb42-4a21-9bf8-e29f1b669a88"
      },
      "execution_count": null,
      "outputs": [
        {
          "output_type": "stream",
          "name": "stdout",
          "text": [
            "Ingresa dos numero para hacer la resta\n",
            "Ingresa el primer numero: 3.14\n",
            "Ingresa el segundo numero: 360\n",
            "La multiplicacion de 3.14 y de 360.0, nos da un resultado de 1130.4\n"
          ]
        }
      ]
    },
    {
      "cell_type": "markdown",
      "source": [
        "8 - Crea un programa que solicite dos valores numéricos, un numerador y un denominador, y realice la división entre los dos valores. Asegúrate de que el valor del denominador no sea igual a 0.\n",
        "\n"
      ],
      "metadata": {
        "id": "93JnB6hUq25m"
      }
    },
    {
      "cell_type": "code",
      "source": [
        "print(\"Ingresa los valores para hacer la divicion, recuerda no usar el 0 en denominador\")\n",
        "Num_Numerador = float(input(\"Ingresa el Numerador: \"))\n",
        "Num_Denominador = float(input(\"Ingresa el Denominador: \"))\n",
        "\n",
        "if Num_Denominador != 0:\n",
        "  Fraccion = (Num_Numerador) / (Num_Denominador)\n",
        "  print(f'La divicion de {Num_Numerador} entre {Num_Denominador}, nos da un resultado de {Fraccion}')\n",
        "else:\n",
        "  print(\"El denominador no puede ser cero.\")"
      ],
      "metadata": {
        "colab": {
          "base_uri": "https://localhost:8080/"
        },
        "id": "CM-SdDL9xVhf",
        "outputId": "de139e6c-1b47-4e80-ef3b-afb2f44753e6"
      },
      "execution_count": null,
      "outputs": [
        {
          "output_type": "stream",
          "name": "stdout",
          "text": [
            "Ingresa los valores para hacer la divicion, recuerda no usar el 0 en denominador\n",
            "Ingresa el Numerador: 12\n",
            "Ingresa el Denominador: 0\n",
            "El denominador no puede ser cero.\n"
          ]
        }
      ]
    },
    {
      "cell_type": "markdown",
      "source": [
        "9 - Crea un programa que solicite dos valores numéricos, un operador y una potencia, y realice la exponenciación entre estos dos valores.\n",
        "\n"
      ],
      "metadata": {
        "id": "92HdGW79q275"
      }
    },
    {
      "cell_type": "code",
      "source": [
        "print(\"Ingresa los valores de operador y potencia\")\n",
        "Num_ope = float(input(\"Ingresa el operador: \"))\n",
        "Num_pot = float(input(\"Ingresa el potencia: \"))\n",
        "Potencia = (Num_ope) ** (Num_pot)\n",
        "print(f'Los valores son {Num_ope} y {Num_pot}, nos da un resultado de {Potencia}')"
      ],
      "metadata": {
        "colab": {
          "base_uri": "https://localhost:8080/"
        },
        "id": "tRPVNE-nyWqW",
        "outputId": "03b570e3-412d-4595-fb40-f36da8a00102"
      },
      "execution_count": null,
      "outputs": [
        {
          "output_type": "stream",
          "name": "stdout",
          "text": [
            "Ingresa los valores de operador y potencia\n",
            "Ingresa el operador: 4\n",
            "Ingresa el potencia: 4\n",
            "Los valores son 4.0 y 4.0, nos da un resultado de 256.0\n"
          ]
        }
      ]
    },
    {
      "cell_type": "markdown",
      "source": [
        "10 - Crea un programa que solicite dos valores numéricos, un numerador y un denominador, y realice la división entera entre los dos valores. Asegúrate de que el valor del denominador no sea igual a 0.\n",
        "\n"
      ],
      "metadata": {
        "id": "nZFjg7Azq2-o"
      }
    },
    {
      "cell_type": "code",
      "source": [
        "print(\"Ingresa los valores para hacer la divicion entera, recuerda no usar el 0 en denominador\")\n",
        "Num_Entfrac1 = float(input(\"Ingresa el Numerador:\"))\n",
        "Num_Entfrac2 = float(input(\"Ingresa el Denominador:\"))\n",
        "#el // se usa para enteros en este caso para diviciones\n",
        "#Se usa para que simpre quede de manera entera\n",
        "\n",
        "if Num_Entfrac2 != 0:\n",
        "  Div_Entera = (Num_Entfrac1) // (Num_Entfrac2)\n",
        "  print(f'La multiplicacion de {Num_Entfrac1} y de {Num_Entfrac2}, nos da un resultado de {Div_Entera}')\n",
        "else:\n",
        "  print(\"El denominador no puede ser cero.\")\n"
      ],
      "metadata": {
        "colab": {
          "base_uri": "https://localhost:8080/"
        },
        "id": "bnraor8y0LyS",
        "outputId": "40664e50-2db5-4136-e33e-a30d362cc8b2"
      },
      "execution_count": null,
      "outputs": [
        {
          "output_type": "stream",
          "name": "stdout",
          "text": [
            "Ingresa los valores para hacer la divicion entera, recuerda no usar el 0 en denominador\n",
            "Ingresa el Numerador:12\n",
            "Ingresa el Denominador:0\n",
            "El denominador no puede ser cero.\n"
          ]
        }
      ]
    },
    {
      "cell_type": "markdown",
      "source": [
        "11 - Crea un programa que solicite dos valores numéricos, un numerador y un denominador, y devuelva el resto de la división entre los dos valores. Asegúrate de que el valor del denominador no sea igual a 0.\n",
        "\n"
      ],
      "metadata": {
        "id": "q_lCuWNuq3BP"
      }
    },
    {
      "cell_type": "code",
      "source": [
        "print(\"Ingresa los valores para hacer la divicion, recuerda no usar el 0 en denominador\")\n",
        "Num_Residuo1 = float(input(\"Ingresa el Numerador: \"))\n",
        "Num_Residuo2 = float(input(\"Ingresa el Denominador: \"))\n",
        "\n",
        "if Num_Residuo2 != 0:\n",
        "  Resto = Num_Residuo1 % Num_Residuo2\n",
        "  print(f'El resto de la división de {Num_Residuo1} entre {Num_Residuo2} es: {Resto}')\n",
        "else:\n",
        "  print(\"El denominador no puede ser cero.\")"
      ],
      "metadata": {
        "colab": {
          "base_uri": "https://localhost:8080/"
        },
        "id": "9haTCYbK2bi5",
        "outputId": "c2f3e002-fef1-4f05-f999-b5064d34d0be"
      },
      "execution_count": null,
      "outputs": [
        {
          "output_type": "stream",
          "name": "stdout",
          "text": [
            "Ingresa los valores para hacer la divicion, recuerda no usar el 0 en denominador\n",
            "Ingresa el Numerador: 12\n",
            "Ingresa el Denominador: 0\n",
            "El denominador no puede ser cero.\n"
          ]
        }
      ]
    },
    {
      "cell_type": "markdown",
      "source": [
        "12 - Crea un código que solicite las 3 notas de un estudiante e imprima el promedio de las notas.\n",
        "\n"
      ],
      "metadata": {
        "id": "IbYgugOmq3D_"
      }
    },
    {
      "cell_type": "code",
      "source": [
        "Estu_Nota1 = float(input(\"Ingresa la primera nota: \"))\n",
        "Estu_Nota2 = float(input(\"Ingresa la segunda nota: \"))\n",
        "Estu_Nota3 = float(input(\"Ingresa la tercera nota: \"))\n",
        "\n",
        "Promedio = (Estu_Nota1 + Estu_Nota2 + Estu_Nota3) / 3\n",
        "\n",
        "print(f'El promedio de las notas es: {Promedio}')"
      ],
      "metadata": {
        "colab": {
          "base_uri": "https://localhost:8080/"
        },
        "id": "GI77-q674JKX",
        "outputId": "227eba9a-12d6-4f97-9d60-5d555bc4b58e"
      },
      "execution_count": null,
      "outputs": [
        {
          "output_type": "stream",
          "name": "stdout",
          "text": [
            "Ingresa la primera nota: 10\n",
            "Ingresa la segunda nota: 10\n",
            "Ingresa la tercera nota: 10\n",
            "El promedio de las notas es: 10.0\n"
          ]
        }
      ]
    },
    {
      "cell_type": "markdown",
      "source": [
        "13 - Crea un código que calcule e imprima el promedio ponderado de los números 5, 12, 20 y 15 con pesos respectivamente iguales a 1, 2, 3 y 4.\n",
        "\n"
      ],
      "metadata": {
        "id": "iRssAdCnq3Gy"
      }
    },
    {
      "cell_type": "code",
      "source": [
        "Numero1 = 5\n",
        "Numero2 = 12\n",
        "Numero3 = 20\n",
        "Numero4 = 15\n",
        "\n",
        "Peso1 = 1\n",
        "Peso2 = 2\n",
        "Peso3 = 3\n",
        "Peso4 = 4\n",
        "\n",
        "Total_peso = Peso1 + Peso2 + Peso3 + Peso4\n",
        "\n",
        "Promedio_Ponderado = (Numero1 * Peso1 + Numero2 * Peso2 + Numero3 * Peso3 + Numero4 * Peso4) / Total_peso\n",
        "\n",
        "print(f'El promedio ponderado de los números es: {Promedio_Ponderado}')\n",
        "\n",
        "'''\n",
        "Otra menera de hacer la poneracion\n",
        "\n",
        "# Números\n",
        "num1 = 5\n",
        "num2 = 12\n",
        "num3 = 20\n",
        "num4 = 15\n",
        "\n",
        "# Pesos\n",
        "peso1 = 1\n",
        "peso2 = 2\n",
        "peso3 = 3\n",
        "peso4 = 4\n",
        "\n",
        "# Calcular la suma de los productos de cada número por su peso\n",
        "suma_productos = (num1 * peso1) + (num2 * peso2) + (num3 * peso3) + (num4 * peso4)\n",
        "\n",
        "# Calcular la suma de los pesos\n",
        "suma_pesos = peso1 + peso2 + peso3 + peso4\n",
        "\n",
        "# Calcular el promedio ponderado\n",
        "promedio_ponderado = suma_productos / suma_pesos\n",
        "\n",
        "# Imprimir el resultado\n",
        "print(f\"El promedio ponderado es: {promedio_ponderado}\")\n",
        "\n",
        "'''\n"
      ],
      "metadata": {
        "colab": {
          "base_uri": "https://localhost:8080/",
          "height": 104
        },
        "id": "7QOcuwX35k9E",
        "outputId": "5d9e0a58-531a-400c-ec64-1e7d2b65e17c"
      },
      "execution_count": null,
      "outputs": [
        {
          "output_type": "stream",
          "name": "stdout",
          "text": [
            "El promedio ponderado de los números es: 14.9\n"
          ]
        },
        {
          "output_type": "execute_result",
          "data": {
            "text/plain": [
              "'\\nOtra menera de hacer la poneracion\\n\\n# Números\\nnum1 = 5\\nnum2 = 12\\nnum3 = 20\\nnum4 = 15\\n\\n# Pesos\\npeso1 = 1\\npeso2 = 2\\npeso3 = 3\\npeso4 = 4\\n\\n# Calcular la suma de los productos de cada número por su peso\\nsuma_productos = (num1 * peso1) + (num2 * peso2) + (num3 * peso3) + (num4 * peso4)\\n\\n# Calcular la suma de los pesos\\nsuma_pesos = peso1 + peso2 + peso3 + peso4\\n\\n# Calcular el promedio ponderado\\npromedio_ponderado = suma_productos / suma_pesos\\n\\n# Imprimir el resultado\\nprint(f\"El promedio ponderado es: {promedio_ponderado}\")\\n\\n\\n'"
            ],
            "application/vnd.google.colaboratory.intrinsic+json": {
              "type": "string"
            }
          },
          "metadata": {},
          "execution_count": 29
        }
      ]
    },
    {
      "cell_type": "markdown",
      "source": [
        "##**Editando textos**\n"
      ],
      "metadata": {
        "id": "OX1zGpBMq3JX"
      }
    },
    {
      "cell_type": "markdown",
      "source": [
        "14 - Crea una variable llamada \"frase\" y asígnale una cadena de texto de tu elección. Luego, imprime la frase en pantalla.\n",
        "\n"
      ],
      "metadata": {
        "id": "V6cVDXHpq3MH"
      }
    },
    {
      "cell_type": "code",
      "source": [
        "frase = \"Holaaaa!!\"\n",
        "\n",
        "print(frase)"
      ],
      "metadata": {
        "colab": {
          "base_uri": "https://localhost:8080/"
        },
        "id": "AqHWeRI88Qc3",
        "outputId": "46d7b18a-db2f-4a04-a7ab-336ac134855d"
      },
      "execution_count": null,
      "outputs": [
        {
          "output_type": "stream",
          "name": "stdout",
          "text": [
            "Holaaaa!!\n"
          ]
        }
      ]
    },
    {
      "cell_type": "markdown",
      "source": [
        "15 - Crea un código que solicite una frase y luego imprima la frase en pantalla.\n",
        "\n"
      ],
      "metadata": {
        "id": "F-FDC6fIq3PD"
      }
    },
    {
      "cell_type": "code",
      "source": [
        "Escribe = input('Escribe una Frase: ')\n",
        "print(Escribe)"
      ],
      "metadata": {
        "colab": {
          "base_uri": "https://localhost:8080/"
        },
        "id": "lXeogou98g6f",
        "outputId": "4ff30981-9c0b-4f3d-9ae8-d24041aa0633"
      },
      "execution_count": null,
      "outputs": [
        {
          "output_type": "stream",
          "name": "stdout",
          "text": [
            "Escribe una Frase: Holi\n",
            "Holi\n"
          ]
        }
      ]
    },
    {
      "cell_type": "markdown",
      "source": [
        "16 - Crea un código que solicite una frase al usuario y luego imprima la misma frase ingresada pero en mayúsculas.\n",
        "\n"
      ],
      "metadata": {
        "id": "PKOu76tMq3SB"
      }
    },
    {
      "cell_type": "code",
      "source": [
        "Captura = input('Escribe una Frase:')\n",
        "\n",
        "print(Captura.upper())"
      ],
      "metadata": {
        "colab": {
          "base_uri": "https://localhost:8080/"
        },
        "id": "9fwDB6V28zqP",
        "outputId": "98592f9e-69d8-4037-f06b-771abe380557"
      },
      "execution_count": null,
      "outputs": [
        {
          "output_type": "stream",
          "name": "stdout",
          "text": [
            "Escribe una Frase:esta frease se va a pasar a mayuscular\n",
            "ESTA FREASE SE VA A PASAR A MAYUSCULAR\n"
          ]
        }
      ]
    },
    {
      "cell_type": "markdown",
      "source": [
        "17 - Crea un código que solicite una frase al usuario y luego imprima la misma frase ingresada pero en minúsculas.\n",
        "\n"
      ],
      "metadata": {
        "id": "2O9YsDE7q3Uq"
      }
    },
    {
      "cell_type": "code",
      "source": [
        "Captuar = input('Escribe una Frase:')\n",
        "\n",
        "print(Captuar.lower())"
      ],
      "metadata": {
        "colab": {
          "base_uri": "https://localhost:8080/"
        },
        "id": "wMJ_H5CBNHc6",
        "outputId": "fdfe742c-cead-4c05-b5ad-3adeab267dca"
      },
      "execution_count": null,
      "outputs": [
        {
          "output_type": "stream",
          "name": "stdout",
          "text": [
            "Escribe una Frase:ESTA FRASE SE ESCRIBE EN MAYUSCULAS\n",
            "esta frase se escribe en mayusculas\n"
          ]
        }
      ]
    },
    {
      "cell_type": "markdown",
      "source": [
        "18 - Crea una variable llamada \"frase\" y asígnale una cadena de texto de tu elección. Luego, imprime la frase sin espacios en blanco al principio y al final.\n",
        "\n"
      ],
      "metadata": {
        "id": "CIhFrMqkq3XO"
      }
    },
    {
      "cell_type": "code",
      "source": [
        "frase = \"       Cadena de texto de mi eleccion       \"\n",
        "\n",
        "print(frase.strip())"
      ],
      "metadata": {
        "colab": {
          "base_uri": "https://localhost:8080/"
        },
        "id": "egqyZKn-NSSK",
        "outputId": "1949a9ef-bf0b-4390-b870-70a062a6a446"
      },
      "execution_count": null,
      "outputs": [
        {
          "output_type": "stream",
          "name": "stdout",
          "text": [
            "Cadena de texto de mi eleccion\n"
          ]
        }
      ]
    },
    {
      "cell_type": "markdown",
      "source": [
        "19 - Crea un código que solicite una frase al usuario y luego imprima la misma frase sin espacios en blanco al principio y al final.\n",
        "\n"
      ],
      "metadata": {
        "id": "yY-cf0Ojq3aF"
      }
    },
    {
      "cell_type": "code",
      "source": [
        "Pedir_texto = input('Escribe un texto con espacios para ejemplificar el Strip')\n",
        "\n",
        "print(Pedir_texto.strip())"
      ],
      "metadata": {
        "colab": {
          "base_uri": "https://localhost:8080/"
        },
        "id": "2s0IgRsSNpO6",
        "outputId": "66fc6f00-d1c2-40e0-e362-6dd3a3b124b5"
      },
      "execution_count": null,
      "outputs": [
        {
          "output_type": "stream",
          "name": "stdout",
          "text": [
            "Escribe un texto con espacios para ejemplificar el Strip          Hola Como estas               \n",
            "Hola Como estas\n"
          ]
        }
      ]
    },
    {
      "cell_type": "markdown",
      "source": [
        "20 - Crea un código que solicite una frase al usuario y luego imprima la misma frase sin espacios en blanco al principio y al final, además de convertirla a minúsculas.\n",
        "\n"
      ],
      "metadata": {
        "id": "vhfqXvNlq3cs"
      }
    },
    {
      "cell_type": "code",
      "source": [
        "texto_ped = input('Escribe un texto con espacios para ejemplificar el Strip y Lower')\n",
        "\n",
        "print(texto_ped.strip().lower())"
      ],
      "metadata": {
        "colab": {
          "base_uri": "https://localhost:8080/"
        },
        "id": "tH0gXNvFN9iS",
        "outputId": "b665cf64-6b4e-4fea-c4e3-ec15bab1e5bf"
      },
      "execution_count": null,
      "outputs": [
        {
          "output_type": "stream",
          "name": "stdout",
          "text": [
            "Escribe un texto con espacios para ejemplificar el Strip y Lower          ESTO EJEMPLIFICA QUE HACE STRIP  Y LOWER               \n",
            "esto ejemplifica que hace strip  y lower\n"
          ]
        }
      ]
    },
    {
      "cell_type": "markdown",
      "source": [
        "21 - Crea un código que solicite una frase al usuario y luego imprima la misma frase con todas las vocales \"e\" reemplazadas por la letra \"f\".\n",
        "\n"
      ],
      "metadata": {
        "id": "ipKieZUaq3ff"
      }
    },
    {
      "cell_type": "code",
      "source": [
        "Pedir_texto = input('Escribe un texto con muchas \"e\" para ejemplificar el Replace')\n",
        "\n",
        "print(Pedir_texto.replace('e','f'))"
      ],
      "metadata": {
        "colab": {
          "base_uri": "https://localhost:8080/"
        },
        "id": "7igpEFYjOT0t",
        "outputId": "db5fc92a-36d1-44e6-bd90-569e6b6605d7"
      },
      "execution_count": null,
      "outputs": [
        {
          "output_type": "stream",
          "name": "stdout",
          "text": [
            "Escribe un texto con muchas \"e\" para ejemplificar el ReplaceEste testo sera remplazado las \"e\" por \"f\" eeeeeeeeeeeee ejemplo\n",
            "Estf tfsto sfra rfmplazado las \"f\" por \"f\" fffffffffffff fjfmplo\n"
          ]
        }
      ]
    },
    {
      "cell_type": "markdown",
      "source": [
        "22 - Crea un código que solicite una frase al usuario y luego imprima la misma frase con todas las vocales \"a\" reemplazadas por el carácter \"@\".\n",
        "\n"
      ],
      "metadata": {
        "id": "x8CTUfWiq3h4"
      }
    },
    {
      "cell_type": "code",
      "source": [
        "Texto = input('Escribe un texto con muchas \"a\" para ejemplificar el Replace')\n",
        "\n",
        "print(Texto.replace('a','@'))"
      ],
      "metadata": {
        "colab": {
          "base_uri": "https://localhost:8080/"
        },
        "id": "9DV1PuDwO3ri",
        "outputId": "cfdff41c-665b-479f-e17f-87f7edf533ce"
      },
      "execution_count": null,
      "outputs": [
        {
          "output_type": "stream",
          "name": "stdout",
          "text": [
            "Escribe un texto con muchas \"a\" para ejemplificar el Replaceeste texto sera remplazaso por otros coracteres\n",
            "este texto ser@ rempl@z@so por otros cor@cteres\n"
          ]
        }
      ]
    },
    {
      "cell_type": "markdown",
      "source": [
        "23 - Crea un código que solicite una frase al usuario y luego imprima la misma frase con todas las consonantes \"s\" reemplazadas por el carácter \"$\".\n",
        "\n"
      ],
      "metadata": {
        "id": "1hdpfzXsq3kU"
      }
    },
    {
      "cell_type": "code",
      "source": [
        "Texto = input('Escribe un texto con muchas \"a\" para ejemplificar el Replace')\n",
        "\n",
        "print(Texto.replace('s','$'))"
      ],
      "metadata": {
        "colab": {
          "base_uri": "https://localhost:8080/"
        },
        "id": "ckFPlsawPIHU",
        "outputId": "0c98b241-0789-415d-ad12-676e290a3907"
      },
      "execution_count": null,
      "outputs": [
        {
          "output_type": "stream",
          "name": "stdout",
          "text": [
            "Escribe un texto con muchas \"a\" para ejemplificar el Replacese peude cambiar un texto las veces que sean con otros caracteres\n",
            "$e peude cambiar un texto la$ vece$ que $ean con otro$ caractere$\n"
          ]
        }
      ]
    }
  ]
}