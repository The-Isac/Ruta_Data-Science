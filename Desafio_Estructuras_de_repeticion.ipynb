{
  "nbformat": 4,
  "nbformat_minor": 0,
  "metadata": {
    "colab": {
      "provenance": [],
      "authorship_tag": "ABX9TyMfix67y8+D/CpsZ9Og9g5Z",
      "include_colab_link": true
    },
    "kernelspec": {
      "name": "python3",
      "display_name": "Python 3"
    },
    "language_info": {
      "name": "python"
    }
  },
  "cells": [
    {
      "cell_type": "markdown",
      "metadata": {
        "id": "view-in-github",
        "colab_type": "text"
      },
      "source": [
        "<a href=\"https://colab.research.google.com/github/The-Isac/Ruta_Data-Science/blob/main/Desafio_Estructuras_de_repeticion.ipynb\" target=\"_parent\"><img src=\"https://colab.research.google.com/assets/colab-badge.svg\" alt=\"Open In Colab\"/></a>"
      ]
    },
    {
      "cell_type": "markdown",
      "source": [
        "## Desafío: ¡Es hora de practicar!"
      ],
      "metadata": {
        "id": "ItRrkZ5U2n4n"
      }
    },
    {
      "cell_type": "markdown",
      "source": [
        "###Vamos practicar el uso de estructuras de repetición como el \"while\" y el \"for\" a partir de algunas actividades. Ahora que estamos avanzando en el contenido, podemos hacer los desafíos más interesantes. ¡Para ello, trabajaremos en proyectos de código!"
      ],
      "metadata": {
        "id": "WjBv7WaZ228W"
      }
    },
    {
      "cell_type": "markdown",
      "source": [
        "####1 - Escribe un programa que solicite dos números enteros e imprima todos los números enteros entre ellos.\n",
        "\n"
      ],
      "metadata": {
        "id": "30KnvyF922-s"
      }
    },
    {
      "cell_type": "code",
      "source": [
        "Numero1 = int(input(\"Ingresa un numero entero:\"))\n",
        "Numero2 = int(input(\"Ingresa un numero entero:\"))\n",
        "\n",
        "if Numero1 < Numero2:\n",
        "  for i in range(Numero1+1,Numero2):\n",
        "    print(f'El numero que esta entere {Numero1} y {Numero2} es: {i}')\n",
        "elif  Numero1 > Numero2:\n",
        "  for i in range(Numero2+1,Numero1):\n",
        "    print(f'El numero que esta entere {Numero1} y {Numero2} es: {i}')\n",
        "else:\n",
        "  print(\"Los numeros son iguales\")\n"
      ],
      "metadata": {
        "colab": {
          "base_uri": "https://localhost:8080/"
        },
        "id": "kJgpkNFm3-qi",
        "outputId": "e3f74c6d-c346-4cc4-96da-27986cd95d35"
      },
      "execution_count": null,
      "outputs": [
        {
          "output_type": "stream",
          "name": "stdout",
          "text": [
            "Ingresa un numero entero:20\n",
            "Ingresa un numero entero:1\n",
            "El numero que esta entere 20 y 1 es: 2\n",
            "El numero que esta entere 20 y 1 es: 3\n",
            "El numero que esta entere 20 y 1 es: 4\n",
            "El numero que esta entere 20 y 1 es: 5\n",
            "El numero que esta entere 20 y 1 es: 6\n",
            "El numero que esta entere 20 y 1 es: 7\n",
            "El numero que esta entere 20 y 1 es: 8\n",
            "El numero que esta entere 20 y 1 es: 9\n",
            "El numero que esta entere 20 y 1 es: 10\n",
            "El numero que esta entere 20 y 1 es: 11\n",
            "El numero que esta entere 20 y 1 es: 12\n",
            "El numero que esta entere 20 y 1 es: 13\n",
            "El numero que esta entere 20 y 1 es: 14\n",
            "El numero que esta entere 20 y 1 es: 15\n",
            "El numero que esta entere 20 y 1 es: 16\n",
            "El numero que esta entere 20 y 1 es: 17\n",
            "El numero que esta entere 20 y 1 es: 18\n",
            "El numero que esta entere 20 y 1 es: 19\n"
          ]
        }
      ]
    },
    {
      "cell_type": "markdown",
      "source": [
        "####2 - Escribe un programa para calcular cuántos días tomará que la colonia de una bacteria A supere o iguale a la colonia de una bacteria B, basado en tasas de crecimiento del 3% y 1.5%, respectivamente. Supón que la colonia A comienza con 4 elementos y B con 10.\n",
        "\n"
      ],
      "metadata": {
        "id": "AMndGFm33Ics"
      }
    },
    {
      "cell_type": "code",
      "source": [
        "bact_a = 4\n",
        "bact_b = 10\n",
        "dias = 0\n",
        "\n",
        "while bact_a <= bact_b:\n",
        "  bact_a = bact_a * 1.03\n",
        "  bact_b = bact_b * 1.015\n",
        "  dias += 1\n",
        "\n",
        "print(f\"Tomará {dias} días para que la colonia A supere a la colonia B.\")\n",
        "\n",
        "\n",
        "bac_a = 4\n",
        "bac_b = 100\n",
        "tasa_a = 0.03\n",
        "tasa_b = 0.015\n",
        "dias = 0\n",
        "\n",
        "while bac_a <= bac_b:\n",
        "  bac_a = bac_a * (1 + tasa_a)\n",
        "  bac_b = bac_b * (1 + tasa_b)\n",
        "  dias += 1\n",
        "\n",
        "print(f\"Tomará {dias} días para que la colonia A supere a la colonia B.\")\n"
      ],
      "metadata": {
        "colab": {
          "base_uri": "https://localhost:8080/"
        },
        "id": "IoCKuLn054sr",
        "outputId": "78b5a021-ffc7-4dc6-f15b-a338ab529bdd"
      },
      "execution_count": null,
      "outputs": [
        {
          "output_type": "stream",
          "name": "stdout",
          "text": [
            "Tomará 63 días para que la colonia A supere a la colonia B.\n",
            "Tomará 220 días para que la colonia A supere a la colonia B.\n"
          ]
        }
      ]
    },
    {
      "cell_type": "markdown",
      "source": [
        "####3 - Para procesar una cantidad de 15 datos de evaluaciones de usuarios de un servicio de la empresa, necesitamos verificar si las calificaciones son válidas. Por lo tanto, escribe un programa que recibirá calificaciones del 0 al 5 y verificará si son valores válidos. Si se ingresa una calificación superior a 5 o inferior a 0, se repetirá hasta que el usuario ingrese un valor válido.\n",
        "\n"
      ],
      "metadata": {
        "id": "6UN2krdA3IfS"
      }
    },
    {
      "cell_type": "code",
      "source": [
        "for i in range(15):\n",
        "  while True:\n",
        "    calificacion_str = input(\"Ingrese una calificación del 0 al 5: \")\n",
        "    if not calificacion_str:\n",
        "      print(\"Calificación inválida. Intente nuevamente.\")\n",
        "      continue\n",
        "\n",
        "    try:\n",
        "      calificacion = float(calificacion_str)\n",
        "      if 0 <= calificacion <= 5:\n",
        "        print(\"Calificación válida.\")\n",
        "        break\n",
        "      else:\n",
        "        print(\"Calificación inválida. Intente nuevamente.\")\n",
        "    except ValueError:\n",
        "      print(\"Entrada no válida. Por favor, ingrese un número.\")"
      ],
      "metadata": {
        "id": "tdKcJbcL9_rc",
        "colab": {
          "base_uri": "https://localhost:8080/"
        },
        "outputId": "6a0403ab-e3b4-455e-c9bc-9b78e9ae33ab"
      },
      "execution_count": null,
      "outputs": [
        {
          "output_type": "stream",
          "name": "stdout",
          "text": [
            "Ingrese una calificación del 0 al 5: 5\n",
            "Calificación válida.\n",
            "Ingrese una calificación del 0 al 5: 9\n",
            "Calificación inválida. Intente nuevamente.\n",
            "Ingrese una calificación del 0 al 5: 9\n",
            "Calificación inválida. Intente nuevamente.\n",
            "Ingrese una calificación del 0 al 5: 9\n",
            "Calificación inválida. Intente nuevamente.\n",
            "Ingrese una calificación del 0 al 5: 9\n",
            "Calificación inválida. Intente nuevamente.\n",
            "Ingrese una calificación del 0 al 5: 4\n",
            "Calificación válida.\n",
            "Ingrese una calificación del 0 al 5: 3\n",
            "Calificación válida.\n"
          ]
        }
      ]
    },
    {
      "cell_type": "markdown",
      "source": [
        "####4 - Desarrolla un programa que lea un conjunto indefinido de temperaturas en grados Celsius y calcule su promedio. La lectura debe detenerse al ingresar el valor -273°C.\n",
        "\n"
      ],
      "metadata": {
        "id": "HRbQoCdl3Ihr"
      }
    },
    {
      "cell_type": "code",
      "source": [
        "temperaturas = []\n",
        "while True:\n",
        "  temp_str = input(\"Ingrese una temperatura en grados Celsius (ingrese -273 para detener): \")\n",
        "  try:\n",
        "    temp = float(temp_str)\n",
        "    if temp == -273:\n",
        "      break\n",
        "    temperaturas.append(temp)\n",
        "  except ValueError:\n",
        "    print(\"Entrada no válida. Por favor, ingrese un número.\")\n",
        "\n",
        "if temperaturas: # Check if the list is not empty to avoid division by zero\n",
        "  promedio = sum(temperaturas) / len(temperaturas)\n",
        "  print(f\"El promedio de las temperaturas ingresadas es: {promedio:.2f}°C\")\n",
        "else:\n",
        "  print(\"No se ingresaron temperaturas válidas.\")"
      ],
      "metadata": {
        "colab": {
          "base_uri": "https://localhost:8080/"
        },
        "id": "UlXUrMT2X4H1",
        "outputId": "91629f4e-cbce-4230-b887-dc979c0e1dee"
      },
      "execution_count": 8,
      "outputs": [
        {
          "output_type": "stream",
          "name": "stdout",
          "text": [
            "Ingrese una temperatura en grados Celsius (ingrese -273 para detener): 2\n",
            "Ingrese una temperatura en grados Celsius (ingrese -273 para detener): 2\n",
            "Ingrese una temperatura en grados Celsius (ingrese -273 para detener): -273\n",
            "El promedio de las temperaturas ingresadas es: 2.00°C\n"
          ]
        }
      ]
    },
    {
      "cell_type": "markdown",
      "source": [
        "####5 - Escribe un programa que calcule el factorial de un número entero proporcionado por el usuario. Recuerda que el factorial de un número entero es el producto de ese número por todos sus antecesores hasta llegar al número 1. Por ejemplo, el factorial de 5 es 5 x 4 x 3 x 2 x 1 = 120.\n",
        "\n"
      ],
      "metadata": {
        "id": "bDTl01Ju3IkD"
      }
    },
    {
      "cell_type": "code",
      "source": [
        "Numero = int(input(\"Ingrese un numero entero: \"))\n",
        "fact = 1\n",
        "\n",
        "for i in range(1,Numero+1):\n",
        "  fact *= i\n",
        "\n",
        "print(f\"El factorial de {Numero} es: {fact}\")"
      ],
      "metadata": {
        "colab": {
          "base_uri": "https://localhost:8080/"
        },
        "id": "N1rinTBbakk0",
        "outputId": "3cf2d2f0-c2f9-40d3-b2a8-49e281b11f06"
      },
      "execution_count": 11,
      "outputs": [
        {
          "output_type": "stream",
          "name": "stdout",
          "text": [
            "Ingrese un numero entero: 5\n",
            "El factorial de 5 es: 120\n"
          ]
        }
      ]
    },
    {
      "cell_type": "markdown",
      "source": [
        "##Momento de los proyectos"
      ],
      "metadata": {
        "id": "eYXfLxkz3Imj"
      }
    },
    {
      "cell_type": "markdown",
      "source": [
        "####6 - Escribe un programa que genere la tabla de multiplicar de un número entero del 1 al 10, según la elección del usuario. Como ejemplo, para el número 2, la tabla de multiplicar debe mostrarse en el siguiente formato:\n",
        "\n"
      ],
      "metadata": {
        "id": "8wPTGNhs3Io7"
      }
    },
    {
      "cell_type": "code",
      "source": [
        "Numeros = int(input(\"Ingrese un numero entero entre 0 a 10:\"))\n",
        "\n",
        "for i in range(1,11):\n",
        "  print(f\"{Numeros} x {i} = {Numeros*i}\")\n",
        "\n",
        ""
      ],
      "metadata": {
        "colab": {
          "base_uri": "https://localhost:8080/"
        },
        "id": "xLhdAstvb3s7",
        "outputId": "58961956-2be5-4a63-a8f1-22db2c041b64"
      },
      "execution_count": 12,
      "outputs": [
        {
          "output_type": "stream",
          "name": "stdout",
          "text": [
            "Ingrese un numero entero entre 0 a 10:2\n",
            "2 x 1 = 2\n",
            "2 x 2 = 4\n",
            "2 x 3 = 6\n",
            "2 x 4 = 8\n",
            "2 x 5 = 10\n",
            "2 x 6 = 12\n",
            "2 x 7 = 14\n",
            "2 x 8 = 16\n",
            "2 x 9 = 18\n",
            "2 x 10 = 20\n"
          ]
        }
      ]
    },
    {
      "cell_type": "markdown",
      "source": [
        "####7 - Los números primos tienen diversas aplicaciones en Ciencia de Datos, como en criptografía y seguridad. Un número primo es aquel que es divisible solo por sí mismo y por 1. Por lo tanto, crea un programa que solicite un número entero y determine si es un número primo o no.\n",
        "\n"
      ],
      "metadata": {
        "id": "yiWNdvbk3IrR"
      }
    },
    {
      "cell_type": "code",
      "source": [
        "Numero = int(input(\"Ingrese un numero entero: \"))\n",
        "\n",
        "if Numero <= 1:\n",
        "  print(f\"{Numero} este no es un numero primo\")\n",
        "else:\n",
        "  for i in range(2,Numero):\n",
        "    if Numero % i == 0:\n",
        "      print(f\"{Numero} este no es un numero primo\")\n",
        "      break\n",
        "  else:\n",
        "    print(f\"{Numero} este es un numero primo\")"
      ],
      "metadata": {
        "colab": {
          "base_uri": "https://localhost:8080/"
        },
        "id": "3BtWBQwkcxVa",
        "outputId": "80eb0df0-2441-46bc-94a0-a9371496c89a"
      },
      "execution_count": 19,
      "outputs": [
        {
          "output_type": "stream",
          "name": "stdout",
          "text": [
            "Ingrese un numero entero: 2\n",
            "2 este es un numero primo\n"
          ]
        }
      ]
    },
    {
      "cell_type": "markdown",
      "source": [
        "####8 - Vamos a comprender la distribución de edades de los pensionistas de una empresa de seguros. Escribe un programa que lea las edades de una cantidad no informada de clientes y muestre la distribución en los intervalos [0-25], [26-50], [51-75] y [76-100]. La entrada de datos se detendrá al ingresar un número negativo.\n",
        "\n"
      ],
      "metadata": {
        "id": "cZwGCeUs3Itm"
      }
    },
    {
      "cell_type": "code",
      "source": [
        "Edadarray = []\n",
        "\n",
        "while True:\n",
        "  Edad_str = input(\"Ingrese la edad ( o un numero negativo para finalizar): \")\n",
        "  try:\n",
        "    Edad = int(Edad_str)\n",
        "    if Edad < 0:\n",
        "      break\n",
        "    Edadarray.append(Edad)\n",
        "  except ValueError:\n",
        "    print(\"Valor no valido. Por favor, ingrese un número.\")\n",
        "\n",
        "\n",
        "if Edadarray:\n",
        "  intervalos = {\n",
        "      \"[0-25]\": 0,\n",
        "      \"[26-50]\": 0,\n",
        "      \"[51-75]\": 0,\n",
        "      \"[76-100]\": 0\n",
        "  }\n",
        "  for Edad in Edadarray:\n",
        "    if 0 <= Edad <= 25:\n",
        "      intervalos[\"[0-25]\"] += 1\n",
        "    elif 26 <= Edad <= 50:\n",
        "      intervalos[\"[26-50]\"] += 1\n",
        "    elif 51 <= Edad <= 75:\n",
        "      intervalos[\"[51-75]\"] += 1\n",
        "    elif 76 <= Edad <= 100:\n",
        "      intervalos[\"[76-100]\"] += 1\n",
        "  for intervalo, cantidad in intervalos.items():\n",
        "    print(f\"{intervalo}: {cantidad} personas\")\n",
        "else:\n",
        "  print(\"No se ingresaron edades válidas.\")\n",
        "\n"
      ],
      "metadata": {
        "colab": {
          "base_uri": "https://localhost:8080/"
        },
        "id": "NQ_cHB1PdiP9",
        "outputId": "8f76ace5-8de9-408e-92ac-f253a0e2bf3d"
      },
      "execution_count": 24,
      "outputs": [
        {
          "output_type": "stream",
          "name": "stdout",
          "text": [
            "Ingrese la edad ( o un numero negativo para finalizar): 12\n",
            "Ingrese la edad ( o un numero negativo para finalizar): 34\n",
            "Ingrese la edad ( o un numero negativo para finalizar): 56\n",
            "Ingrese la edad ( o un numero negativo para finalizar): 67\n",
            "Ingrese la edad ( o un numero negativo para finalizar): 78\n",
            "Ingrese la edad ( o un numero negativo para finalizar): 89\n",
            "Ingrese la edad ( o un numero negativo para finalizar): 90\n",
            "Ingrese la edad ( o un numero negativo para finalizar): 98\n",
            "Ingrese la edad ( o un numero negativo para finalizar): 76\n",
            "Ingrese la edad ( o un numero negativo para finalizar): 65\n",
            "Ingrese la edad ( o un numero negativo para finalizar): 43\n",
            "Ingrese la edad ( o un numero negativo para finalizar): 21\n",
            "Ingrese la edad ( o un numero negativo para finalizar): -128\n",
            "[0-25]: 2 personas\n",
            "[26-50]: 2 personas\n",
            "[51-75]: 3 personas\n",
            "[76-100]: 5 personas\n"
          ]
        }
      ]
    },
    {
      "cell_type": "markdown",
      "source": [
        "####9 - En una elección para la gerencia de una empresa con 20 empleados, hay cuatro candidatos. Escribe un programa que calcule al ganador de la elección. La votación se realizó de la siguiente manera:\n",
        "\n",
        "Cada empleado votó por uno de los cuatro candidatos (representados por los números 1, 2, 3 y 4).\n",
        "\n",
        "También se contaron los votos nulos (representados por el número 5) y los votos en blanco (representados por el número 6).\n",
        "\n",
        "Al final de la votación, el programa debe mostrar el número total de votos para cada candidato, los votos nulos y los votos en blanco. Además, debe calcular y mostrar el porcentaje de votos nulos con respecto al total de votos y el porcentaje de votos en blanco con respecto al total de votos.\n",
        "\n"
      ],
      "metadata": {
        "id": "RNoFP0lB3pvo"
      }
    },
    {
      "cell_type": "code",
      "execution_count": 31,
      "metadata": {
        "id": "zKTAe-b32eH2",
        "colab": {
          "base_uri": "https://localhost:8080/"
        },
        "outputId": "47ff3d38-f0ff-4f09-feae-5494eba312f1"
      },
      "outputs": [
        {
          "output_type": "stream",
          "name": "stdout",
          "text": [
            "Ingresa tu voto: 1\n",
            "Ingresa tu voto: 2\n",
            "Ingresa tu voto: 3\n",
            "Ingresa tu voto: 4\n",
            "Ingresa tu voto: 12\n",
            "Voto inválido.\n",
            "Ingresa tu voto: 2\n",
            "Ingresa tu voto: 3\n",
            "Ingresa tu voto: 1\n",
            "Ingresa tu voto: 2\n",
            "Ingresa tu voto: 3\n",
            "Ingresa tu voto: 4\n",
            "Ingresa tu voto: 1\n",
            "Ingresa tu voto: 2\n",
            "Ingresa tu voto: 3\n",
            "Ingresa tu voto: 4\n",
            "Ingresa tu voto: 5\n",
            "Ingresa tu voto: 5\n",
            "Ingresa tu voto: 5\n",
            "Ingresa tu voto: 5\n",
            "Ingresa tu voto: 5\n",
            "*******************************************\n",
            "Resultados son: \n",
            "Votos candidato 1: 3\n",
            "Votos candidato 2: 4\n",
            "Votos candidato 3: 4\n",
            "Votos candidato 4: 3\n",
            "Votos nulos: 5\n",
            "Votos en blanco: 0\n",
            "Porcentaje de votos nulos: 25.0\n",
            "Porcentaje de votos en blanco: 0.0\n"
          ]
        }
      ],
      "source": [
        "votos_candidato1 = 0\n",
        "votos_candidato2 = 0\n",
        "votos_candidato3 = 0\n",
        "votos_candidato4 = 0\n",
        "votos_nulos = 0\n",
        "votos_blanco = 0\n",
        "\n",
        "for i in range(0, 20):\n",
        "    voto = int(input('Ingresa tu voto: '))\n",
        "    if voto == 1:\n",
        "        votos_candidato1 += 1\n",
        "    elif voto == 2:\n",
        "        votos_candidato2 += 1\n",
        "    elif voto == 3:\n",
        "        votos_candidato3 += 1\n",
        "    elif voto == 4:\n",
        "        votos_candidato4 += 1\n",
        "    elif voto == 5:\n",
        "        votos_nulos += 1\n",
        "    elif voto == 6:\n",
        "        votos_blanco += 1\n",
        "    else:\n",
        "        print(\"Voto inválido.\")\n",
        "\n",
        "\n",
        "print(\"*******************************************\")\n",
        "print(\"Resultados son: \")\n",
        "print(f'Votos candidato 1: {votos_candidato1}')\n",
        "print(f'Votos candidato 2: {votos_candidato2}')\n",
        "print(f'Votos candidato 3: {votos_candidato3}')\n",
        "print(f'Votos candidato 4: {votos_candidato4}')\n",
        "print(f'Votos nulos: {votos_nulos}')\n",
        "print(f'Votos en blanco: {votos_blanco}')\n",
        "print(f'Porcentaje de votos nulos: {(votos_nulos / 20 * 100)}')\n",
        "print(f'Porcentaje de votos en blanco: {(votos_blanco / 20 * 100)}')"
      ]
    }
  ]
}